{
 "cells": [
  {
   "cell_type": "markdown",
   "metadata": {},
   "source": [
    "# python中文新闻分类"
   ]
  },
  {
   "cell_type": "code",
   "execution_count": 28,
   "metadata": {},
   "outputs": [],
   "source": [
    "import re  \n",
    "import pickle\n",
    "import random\n",
    "import jieba\n",
    "from sklearn.svm import SVC\n",
    "from sklearn import preprocessing, decomposition, model_selection, metrics, pipeline\n",
    "from sklearn.feature_extraction.text import TfidfVectorizer as TFIV\n",
    "from sklearn.model_selection import cross_val_score\n",
    "from sklearn.model_selection import GridSearchCV\n",
    "from sklearn.feature_extraction.text import TfidfVectorizer, CountVectorizer\n",
    "from sklearn.decomposition import TruncatedSVD\n",
    "from sklearn.linear_model import LogisticRegression\n",
    "from sklearn.model_selection import train_test_split\n",
    "from sklearn.metrics import classification_report\n",
    "from sklearn.naive_bayes import MultinomialNB"
   ]
  },
  {
   "cell_type": "markdown",
   "metadata": {},
   "source": [
    "### 没有预处理，直接分词"
   ]
  },
  {
   "cell_type": "code",
   "execution_count": null,
   "metadata": {},
   "outputs": [],
   "source": [
    "### 导入数据、打乱数据顺序\n",
    "data = [[i.split(\"\\t\")[0],i.split(\"\\t\")[1]] for i in open(\"F:/项目/新闻文本分类/data/cnews.train.txt\",\"r\",encoding='utf-8')]\n",
    "random.shuffle(data)\n",
    "#jieba分词\n",
    "text = [\" \".join(jieba.lcut(i[1])) for i in data]\n",
    "#使用标签编码的方式将label转化为数字\n",
    "lbl_enc = preprocessing.LabelEncoder()\n",
    "lable_y = [i[0] for i in data]\n",
    "y = lbl_enc.fit_transform(lable_y)\n",
    "#使用TF-IDF对词向量进行表示。存储为稀疏矩阵格式\n",
    "tfv = TFIV(min_df=3,  max_features=None, strip_accents='unicode', analyzer='word',token_pattern=r'\\w{1,}', ngram_range=(1, 2), use_idf=1,smooth_idf=1,sublinear_tf=1, stop_words = 'english')\n",
    "tfv.fit(text)\n",
    "X_all = tfv.transform(text)\n",
    "len_train = 6000\n",
    "X_train = X_all[:len_train]\n",
    "y_train = lable_y[:len_train]\n",
    "X_test = X_all[len_train:]\n",
    "y_test = lable_y[len_train:]"
   ]
  },
  {
   "cell_type": "markdown",
   "metadata": {},
   "source": [
    "### 数据预处理"
   ]
  },
  {
   "cell_type": "code",
   "execution_count": 29,
   "metadata": {},
   "outputs": [],
   "source": [
    "import jieba\n",
    "import pandas as pd\n",
    "df_cnews =pd.read_csv(\"./data/cnews.train.txt\",sep=\"\\t\",names=['category','cnews'], encoding='utf-8')\n",
    "df_cnews = df_cnews.dropna()\n",
    "# random.shuffle(df_cnews)\n",
    "# 停用词\n",
    "stopwords=pd.read_csv(\"./data/stopwords.txt\",index_col=False,quoting=3,sep=\"\\t\",names=['stopword'], encoding='utf-8')\n",
    "stopwords=stopwords['stopword'].values\n",
    "# 构建数据集\n",
    "def preprocess_text(df_cnews, sentences):\n",
    "    for i,text in enumerate(df_cnews['cnews']):\n",
    "        try:\n",
    "            segs=jieba.lcut(text)\n",
    "            segs = filter(lambda x:len(x)>1, segs)\n",
    "            segs = filter(lambda x:x not in stopwords, segs)\n",
    "            sentences.append((\" \".join(segs), df_cnews['category'][i]))\n",
    "        except Exception as e:\n",
    "            print(line)\n",
    "            continue \n",
    "\n",
    "#生成训练数据\n",
    "sentences = []\n",
    "preprocess_text(df_cnews,sentences)\n",
    "\n",
    "from sklearn.model_selection import train_test_split\n",
    "text, lable_y = zip(*sentences)"
   ]
  },
  {
   "cell_type": "markdown",
   "metadata": {},
   "source": [
    "## 多分类"
   ]
  },
  {
   "cell_type": "markdown",
   "metadata": {},
   "source": [
    "### 机器学习"
   ]
  },
  {
   "cell_type": "code",
   "execution_count": null,
   "metadata": {},
   "outputs": [],
   "source": [
    "#使用TF-IDF对词向量进行表示\n",
    "y = lbl_enc.fit_transform(lable_y)\n",
    "#存储为稀疏矩阵格式\n",
    "tfv = TFIV(min_df=3,  max_features=None, strip_accents='unicode', analyzer='word',token_pattern=r'\\w{1,}', ngram_range=(1, 2), use_idf=1,smooth_idf=1,sublinear_tf=1, stop_words = 'english')\n",
    "tfv.fit(text)\n",
    "x = tfv.transform(text)\n",
    "X_train, X_test, y_train, y_test = train_test_split(x, y, random_state=2019)"
   ]
  },
  {
   "cell_type": "markdown",
   "metadata": {},
   "source": [
    "LR"
   ]
  },
  {
   "cell_type": "code",
   "execution_count": 39,
   "metadata": {
    "collapsed": true
   },
   "outputs": [
    {
     "name": "stderr",
     "output_type": "stream",
     "text": [
      "C:\\Users\\Administrator\\Anaconda3\\lib\\site-packages\\sklearn\\linear_model\\logistic.py:433: FutureWarning: Default solver will be changed to 'lbfgs' in 0.22. Specify a solver to silence this warning.\n",
      "  FutureWarning)\n",
      "C:\\Users\\Administrator\\Anaconda3\\lib\\site-packages\\sklearn\\linear_model\\logistic.py:460: FutureWarning: Default multi_class will be changed to 'auto' in 0.22. Specify the multi_class option to silence this warning.\n",
      "  \"this warning.\", FutureWarning)\n",
      "C:\\Users\\Administrator\\Anaconda3\\lib\\site-packages\\sklearn\\linear_model\\logistic.py:433: FutureWarning: Default solver will be changed to 'lbfgs' in 0.22. Specify a solver to silence this warning.\n",
      "  FutureWarning)\n",
      "C:\\Users\\Administrator\\Anaconda3\\lib\\site-packages\\sklearn\\linear_model\\logistic.py:460: FutureWarning: Default multi_class will be changed to 'auto' in 0.22. Specify the multi_class option to silence this warning.\n",
      "  \"this warning.\", FutureWarning)\n"
     ]
    },
    {
     "name": "stdout",
     "output_type": "stream",
     "text": [
      "训练集20折交叉验证得分:  0.8830281811182141\n"
     ]
    },
    {
     "name": "stderr",
     "output_type": "stream",
     "text": [
      "C:\\Users\\Administrator\\Anaconda3\\lib\\site-packages\\sklearn\\linear_model\\logistic.py:433: FutureWarning: Default solver will be changed to 'lbfgs' in 0.22. Specify a solver to silence this warning.\n",
      "  FutureWarning)\n",
      "C:\\Users\\Administrator\\Anaconda3\\lib\\site-packages\\sklearn\\linear_model\\logistic.py:460: FutureWarning: Default multi_class will be changed to 'auto' in 0.22. Specify the multi_class option to silence this warning.\n",
      "  \"this warning.\", FutureWarning)\n"
     ]
    },
    {
     "name": "stdout",
     "output_type": "stream",
     "text": [
      "测试集20折交叉验证得分:  0.8550458987148817\n"
     ]
    }
   ],
   "source": [
    "# model_LR = LogisticRegression(C=.01) # C是正则化系数。\n",
    "# model_LR.fit(X, y_train)\n",
    "# print(\"训练集20折交叉验证得分: \", np.mean(cross_val_score(model_LR, X, y_train, cv=20)))\n",
    "# # model_LR.transform(X_test,y_test)\n",
    "# print(\"测试集20折交叉验证得分: \", np.mean(cross_val_score(model_LR, X_test, y_test, cv=20)))"
   ]
  },
  {
   "cell_type": "code",
   "execution_count": 97,
   "metadata": {},
   "outputs": [
    {
     "name": "stderr",
     "output_type": "stream",
     "text": [
      "C:\\Users\\Administrator\\Anaconda3\\lib\\site-packages\\sklearn\\linear_model\\logistic.py:460: FutureWarning: Default multi_class will be changed to 'auto' in 0.22. Specify the multi_class option to silence this warning.\n",
      "  \"this warning.\", FutureWarning)\n",
      "C:\\Users\\Administrator\\Anaconda3\\lib\\site-packages\\sklearn\\linear_model\\logistic.py:433: FutureWarning: Default solver will be changed to 'lbfgs' in 0.22. Specify a solver to silence this warning.\n",
      "  FutureWarning)\n",
      "C:\\Users\\Administrator\\Anaconda3\\lib\\site-packages\\sklearn\\linear_model\\logistic.py:460: FutureWarning: Default multi_class will be changed to 'auto' in 0.22. Specify the multi_class option to silence this warning.\n",
      "  \"this warning.\", FutureWarning)\n"
     ]
    },
    {
     "name": "stdout",
     "output_type": "stream",
     "text": [
      "训练集20折交叉验证得分:  0.9620329965014577\n"
     ]
    },
    {
     "name": "stderr",
     "output_type": "stream",
     "text": [
      "C:\\Users\\Administrator\\Anaconda3\\lib\\site-packages\\sklearn\\linear_model\\logistic.py:433: FutureWarning: Default solver will be changed to 'lbfgs' in 0.22. Specify a solver to silence this warning.\n",
      "  FutureWarning)\n",
      "C:\\Users\\Administrator\\Anaconda3\\lib\\site-packages\\sklearn\\linear_model\\logistic.py:460: FutureWarning: Default multi_class will be changed to 'auto' in 0.22. Specify the multi_class option to silence this warning.\n",
      "  \"this warning.\", FutureWarning)\n"
     ]
    },
    {
     "name": "stdout",
     "output_type": "stream",
     "text": [
      "测试集20折交叉验证得分:  0.8106312926667842\n"
     ]
    }
   ],
   "source": [
    "model_LR = LogisticRegression(C=.01) # C是正则化系数。\n",
    "model_LR.fit(X, y_train)\n",
    "print(\"训练集20折交叉验证得分: \", np.mean(cross_val_score(model_LR, X, y_train, cv=20)))\n",
    "# model_LR.transform(X_test,y_test)\n",
    "print(\"测试集20折交叉验证得分: \", np.mean(cross_val_score(model_LR, X_test, y_test, cv=20)))"
   ]
  },
  {
   "cell_type": "markdown",
   "metadata": {},
   "source": [
    "svm"
   ]
  },
  {
   "cell_type": "code",
   "execution_count": 92,
   "metadata": {},
   "outputs": [
    {
     "name": "stdout",
     "output_type": "stream",
     "text": [
      "训练集20折交叉验证得分:  0.9576807168048722\n",
      "测试集20折交叉验证得分:  0.9655212518111689\n"
     ]
    }
   ],
   "source": [
    "model_SVM = LinearSVC(C=.01) # C是正则化系数。\n",
    "model_SVM.fit(X_train, y_train)\n",
    "print(\"训练集20折交叉验证得分: \", np.mean(cross_val_score(model_SVM, X_train, y_train, cv=20)))\n",
    "# model_LR.transform(X_test,y_test)\n",
    "print(\"测试集20折交叉验证得分: \", np.mean(cross_val_score(model_SVM, X_test, y_test, cv=20)))"
   ]
  },
  {
   "cell_type": "code",
   "execution_count": 98,
   "metadata": {},
   "outputs": [
    {
     "name": "stdout",
     "output_type": "stream",
     "text": [
      "训练集20折交叉验证得分:  0.9713594872280804\n",
      "测试集20折交叉验证得分:  0.9690510982207394\n"
     ]
    }
   ],
   "source": [
    "model_SVM = LinearSVC(C=.01) # C是正则化系数。\n",
    "model_SVM.fit(X_train, y_train)\n",
    "print(\"训练集20折交叉验证得分: \", np.mean(cross_val_score(model_SVM, X_train, y_train, cv=20)))\n",
    "# model_LR.transform(X_test,y_test)\n",
    "print(\"测试集20折交叉验证得分: \", np.mean(cross_val_score(model_SVM, X_test, y_test, cv=20)))"
   ]
  },
  {
   "cell_type": "markdown",
   "metadata": {},
   "source": [
    "### 神经网络"
   ]
  },
  {
   "cell_type": "markdown",
   "metadata": {},
   "source": [
    "CNN"
   ]
  },
  {
   "cell_type": "code",
   "execution_count": 21,
   "metadata": {},
   "outputs": [],
   "source": [
    "\"\"\"\n",
    "基于卷积神经网络的中文文本分类\n",
    "\"\"\"\n",
    "\n",
    "from __future__ import absolute_import\n",
    "from __future__ import division\n",
    "from __future__ import print_function\n",
    "\n",
    "import argparse\n",
    "import sys\n",
    "\n",
    "import numpy as np\n",
    "import pandas\n",
    "from sklearn import metrics\n",
    "import tensorflow as tf\n",
    "\n",
    "learn = tf.contrib.learn\n",
    "\n",
    "FLAGS = None\n",
    "\n",
    "#文档最长长度\n",
    "MAX_DOCUMENT_LENGTH = 100\n",
    "#最小词频数\n",
    "MIN_WORD_FREQUENCE = 2\n",
    "#词嵌入的维度\n",
    "EMBEDDING_SIZE = 20\n",
    "#filter个数\n",
    "N_FILTERS = 10\n",
    "#感知野大小\n",
    "WINDOW_SIZE = 20\n",
    "#filter的形状\n",
    "FILTER_SHAPE1 = [WINDOW_SIZE, EMBEDDING_SIZE]\n",
    "FILTER_SHAPE2 = [WINDOW_SIZE, N_FILTERS]\n",
    "#池化\n",
    "POOLING_WINDOW = 4\n",
    "POOLING_STRIDE = 2\n",
    "n_words = 0"
   ]
  },
  {
   "cell_type": "code",
   "execution_count": 22,
   "metadata": {},
   "outputs": [
    {
     "ename": "NameError",
     "evalue": "name 'lable_y' is not defined",
     "output_type": "error",
     "traceback": [
      "\u001b[1;31m---------------------------------------------------------------------------\u001b[0m",
      "\u001b[1;31mNameError\u001b[0m                                 Traceback (most recent call last)",
      "\u001b[1;32m<ipython-input-22-06e0b63b6862>\u001b[0m in \u001b[0;36m<module>\u001b[1;34m\u001b[0m\n\u001b[0;32m      1\u001b[0m \u001b[1;31m#使用词袋模型对词向量进行表示\u001b[0m\u001b[1;33m\u001b[0m\u001b[1;33m\u001b[0m\u001b[1;33m\u001b[0m\u001b[0m\n\u001b[1;32m----> 2\u001b[1;33m \u001b[0my\u001b[0m \u001b[1;33m=\u001b[0m \u001b[0mlbl_enc\u001b[0m\u001b[1;33m.\u001b[0m\u001b[0mfit_transform\u001b[0m\u001b[1;33m(\u001b[0m\u001b[0mlable_y\u001b[0m\u001b[1;33m)\u001b[0m\u001b[1;33m\u001b[0m\u001b[1;33m\u001b[0m\u001b[0m\n\u001b[0m\u001b[0;32m      3\u001b[0m \u001b[0mX_train\u001b[0m\u001b[1;33m,\u001b[0m \u001b[0mX_test\u001b[0m\u001b[1;33m,\u001b[0m \u001b[0my_train\u001b[0m\u001b[1;33m,\u001b[0m \u001b[0my_test\u001b[0m \u001b[1;33m=\u001b[0m \u001b[0mtrain_test_split\u001b[0m\u001b[1;33m(\u001b[0m\u001b[0mtext\u001b[0m\u001b[1;33m,\u001b[0m \u001b[0my\u001b[0m\u001b[1;33m,\u001b[0m \u001b[0mrandom_state\u001b[0m\u001b[1;33m=\u001b[0m\u001b[1;36m2019\u001b[0m\u001b[1;33m)\u001b[0m\u001b[1;33m\u001b[0m\u001b[1;33m\u001b[0m\u001b[0m\n",
      "\u001b[1;31mNameError\u001b[0m: name 'lable_y' is not defined"
     ]
    }
   ],
   "source": [
    "#使用词袋模型对词向量进行表示\n",
    "y = lbl_enc.fit_transform(lable_y)\n",
    "X_train, X_test, y_train, y_test = train_test_split(text, y, random_state=2019)"
   ]
  },
  {
   "cell_type": "code",
   "execution_count": null,
   "metadata": {},
   "outputs": [],
   "source": [
    "global n_words\n",
    "# 处理词汇\n",
    "vocab_processor = learn.preprocessing.VocabularyProcessor(MAX_DOCUMENT_LENGTH, min_frequency=MIN_WORD_FREQUENCE)\n",
    "x_train = np.array(list(vocab_processor.fit_transform(X_train)))\n",
    "x_test = np.array(list(vocab_processor.transform(X_test)))\n",
    "n_words = len(vocab_processor.vocabulary_)\n",
    "print('Total words: %d' % n_words)"
   ]
  },
  {
   "cell_type": "code",
   "execution_count": 11,
   "metadata": {},
   "outputs": [],
   "source": [
    "def cnn_model(features, target):\n",
    "    \"\"\"\n",
    "    2层的卷积神经网络，用于短文本分类\n",
    "    \"\"\"\n",
    "    # 先把词转成词嵌入\n",
    "    # 我们得到一个形状为[n_words, EMBEDDING_SIZE]的词表映射矩阵\n",
    "    # 接着我们可以把一批文本映射成[batch_size, sequence_length, EMBEDDING_SIZE]的矩阵形式\n",
    "    target = tf.one_hot(target, 15, 1, 0)\n",
    "    word_vectors = tf.contrib.layers.embed_sequence(\n",
    "            features, vocab_size=n_words, embed_dim=EMBEDDING_SIZE, scope='words')\n",
    "    word_vectors = tf.expand_dims(word_vectors, 3)\n",
    "    with tf.variable_scope('CNN_Layer1'):\n",
    "        # 添加卷积层做滤波\n",
    "        conv1 = tf.contrib.layers.convolution2d(\n",
    "                word_vectors, N_FILTERS, FILTER_SHAPE1, padding='VALID')\n",
    "        # 添加RELU非线性\n",
    "        conv1 = tf.nn.relu(conv1)\n",
    "        # 最大池化\n",
    "        pool1 = tf.nn.max_pool(\n",
    "                conv1,\n",
    "                ksize=[1, POOLING_WINDOW, 1, 1],\n",
    "                strides=[1, POOLING_STRIDE, 1, 1],\n",
    "                padding='SAME')\n",
    "        # 对矩阵进行转置，以满足形状\n",
    "        pool1 = tf.transpose(pool1, [0, 1, 3, 2])\n",
    "    with tf.variable_scope('CNN_Layer2'):\n",
    "        # 第2个卷积层\n",
    "        conv2 = tf.contrib.layers.convolution2d(\n",
    "                pool1, N_FILTERS, FILTER_SHAPE2, padding='VALID')\n",
    "        # 抽取特征\n",
    "        pool2 = tf.squeeze(tf.reduce_max(conv2, 1), squeeze_dims=[1])\n",
    "\n",
    "    # 全连接层\n",
    "    logits = tf.contrib.layers.fully_connected(pool2, 15, activation_fn=None)\n",
    "    loss = tf.losses.softmax_cross_entropy(target, logits)\n",
    "\n",
    "    train_op = tf.contrib.layers.optimize_loss(\n",
    "            loss,\n",
    "            tf.contrib.framework.get_global_step(),\n",
    "            optimizer='Adam',\n",
    "            learning_rate=0.01)\n",
    "\n",
    "    return ({\n",
    "            'class': tf.argmax(logits, 1),\n",
    "            'prob': tf.nn.softmax(logits)\n",
    "    }, loss, train_op)"
   ]
  },
  {
   "cell_type": "code",
   "execution_count": 16,
   "metadata": {
    "collapsed": true
   },
   "outputs": [
    {
     "name": "stdout",
     "output_type": "stream",
     "text": [
      "INFO:tensorflow:Using default config.\n",
      "WARNING:tensorflow:Using temporary folder as model directory: C:\\Users\\ADMINI~1\\AppData\\Local\\Temp\\tmp3by0sd2y\n",
      "INFO:tensorflow:Using config: {'_task_type': None, '_task_id': 0, '_cluster_spec': <tensorflow.python.training.server_lib.ClusterSpec object at 0x000002504D9B7630>, '_master': '', '_num_ps_replicas': 0, '_num_worker_replicas': 0, '_environment': 'local', '_is_chief': True, '_evaluation_master': '', '_train_distribute': None, '_eval_distribute': None, '_device_fn': None, '_tf_config': gpu_options {\n",
      "  per_process_gpu_memory_fraction: 1.0\n",
      "}\n",
      ", '_tf_random_seed': None, '_save_summary_steps': 100, '_save_checkpoints_secs': 600, '_log_step_count_steps': 100, '_protocol': None, '_session_config': None, '_save_checkpoints_steps': None, '_keep_checkpoint_max': 5, '_keep_checkpoint_every_n_hours': 10000, '_model_dir': 'C:\\\\Users\\\\ADMINI~1\\\\AppData\\\\Local\\\\Temp\\\\tmp3by0sd2y'}\n",
      "INFO:tensorflow:Create CheckpointSaverHook.\n",
      "INFO:tensorflow:Graph was finalized.\n",
      "INFO:tensorflow:Running local_init_op.\n",
      "INFO:tensorflow:Done running local_init_op.\n",
      "INFO:tensorflow:Saving checkpoints for 0 into C:\\Users\\ADMINI~1\\AppData\\Local\\Temp\\tmp3by0sd2y\\model.ckpt.\n",
      "INFO:tensorflow:loss = 2.707972, step = 0\n",
      "INFO:tensorflow:global_step/sec: 278.03\n",
      "INFO:tensorflow:loss = 0.3132313, step = 100 (0.361 sec)\n",
      "INFO:tensorflow:global_step/sec: 342.425\n",
      "INFO:tensorflow:loss = 0.004345719, step = 200 (0.292 sec)\n",
      "INFO:tensorflow:global_step/sec: 342.33\n",
      "INFO:tensorflow:loss = 0.015624123, step = 300 (0.292 sec)\n",
      "INFO:tensorflow:global_step/sec: 341.121\n",
      "INFO:tensorflow:loss = 0.00021606195, step = 400 (0.293 sec)\n",
      "INFO:tensorflow:global_step/sec: 345.723\n",
      "INFO:tensorflow:loss = 2.84423e-05, step = 500 (0.289 sec)\n",
      "INFO:tensorflow:global_step/sec: 342.235\n",
      "INFO:tensorflow:loss = 3.0099665e-05, step = 600 (0.292 sec)\n",
      "INFO:tensorflow:global_step/sec: 346.858\n",
      "INFO:tensorflow:loss = 7.408245e-05, step = 700 (0.287 sec)\n",
      "INFO:tensorflow:global_step/sec: 333.658\n",
      "INFO:tensorflow:loss = 0.00025916292, step = 800 (0.302 sec)\n",
      "INFO:tensorflow:global_step/sec: 354.235\n",
      "INFO:tensorflow:loss = 2.5555513e-05, step = 900 (0.280 sec)\n",
      "INFO:tensorflow:global_step/sec: 347.488\n",
      "INFO:tensorflow:loss = 2.683501e-05, step = 1000 (0.290 sec)\n",
      "INFO:tensorflow:global_step/sec: 363.324\n",
      "INFO:tensorflow:loss = 9.879534e-06, step = 1100 (0.273 sec)\n",
      "INFO:tensorflow:global_step/sec: 341.422\n",
      "INFO:tensorflow:loss = 1.2842722e-05, step = 1200 (0.295 sec)\n",
      "INFO:tensorflow:global_step/sec: 363.051\n",
      "INFO:tensorflow:loss = 2.536121e-05, step = 1300 (0.273 sec)\n",
      "INFO:tensorflow:global_step/sec: 338.352\n",
      "INFO:tensorflow:loss = 0.0001902287, step = 1400 (0.296 sec)\n",
      "INFO:tensorflow:global_step/sec: 358.106\n",
      "INFO:tensorflow:loss = 5.0792933e-06, step = 1500 (0.279 sec)\n",
      "INFO:tensorflow:global_step/sec: 345.686\n",
      "INFO:tensorflow:loss = 4.255986e-06, step = 1600 (0.289 sec)\n",
      "INFO:tensorflow:global_step/sec: 364.677\n",
      "INFO:tensorflow:loss = 7.200762e-06, step = 1700 (0.274 sec)\n",
      "INFO:tensorflow:global_step/sec: 344.08\n",
      "INFO:tensorflow:loss = 1.357482e-05, step = 1800 (0.291 sec)\n",
      "INFO:tensorflow:global_step/sec: 347.012\n",
      "INFO:tensorflow:loss = 3.863913e-06, step = 1900 (0.288 sec)\n",
      "INFO:tensorflow:global_step/sec: 363.785\n",
      "INFO:tensorflow:loss = 2.5834102e-06, step = 2000 (0.275 sec)\n",
      "INFO:tensorflow:global_step/sec: 356.651\n",
      "INFO:tensorflow:loss = 5.712272e-06, step = 2100 (0.280 sec)\n",
      "INFO:tensorflow:global_step/sec: 340.063\n",
      "INFO:tensorflow:loss = 3.0155693e-06, step = 2200 (0.296 sec)\n",
      "INFO:tensorflow:global_step/sec: 362.903\n",
      "INFO:tensorflow:loss = 2.3543503e-06, step = 2300 (0.274 sec)\n",
      "INFO:tensorflow:global_step/sec: 357.497\n",
      "INFO:tensorflow:loss = 2.9121666e-06, step = 2400 (0.280 sec)\n",
      "INFO:tensorflow:global_step/sec: 333.47\n",
      "INFO:tensorflow:loss = 1.7862592e-06, step = 2500 (0.301 sec)\n",
      "INFO:tensorflow:global_step/sec: 361.42\n",
      "INFO:tensorflow:loss = 2.6262899e-06, step = 2600 (0.276 sec)\n",
      "INFO:tensorflow:global_step/sec: 366.61\n",
      "INFO:tensorflow:loss = 2.2946158e-05, step = 2700 (0.273 sec)\n",
      "INFO:tensorflow:global_step/sec: 335.504\n",
      "INFO:tensorflow:loss = 4.545242e-06, step = 2800 (0.300 sec)\n",
      "INFO:tensorflow:global_step/sec: 359.366\n",
      "INFO:tensorflow:loss = 2.0898583e-06, step = 2900 (0.276 sec)\n",
      "INFO:tensorflow:Saving checkpoints for 3000 into C:\\Users\\ADMINI~1\\AppData\\Local\\Temp\\tmp3by0sd2y\\model.ckpt.\n",
      "INFO:tensorflow:Loss for final step: 9.342679e-06.\n",
      "INFO:tensorflow:Graph was finalized.\n",
      "INFO:tensorflow:Restoring parameters from C:\\Users\\ADMINI~1\\AppData\\Local\\Temp\\tmp3by0sd2y\\model.ckpt-3000\n",
      "INFO:tensorflow:Running local_init_op.\n",
      "INFO:tensorflow:Done running local_init_op.\n",
      "Accuracy: 0.940800\n"
     ]
    }
   ],
   "source": [
    "# 构建模型\n",
    "classifier = learn.SKCompat(learn.Estimator(model_fn=cnn_model))\n",
    "\n",
    "# 训练和预测\n",
    "classifier.fit(x_train, y_train, steps=3000)\n",
    "y_predicted = classifier.predict(x_test)['class']\n",
    "score = metrics.accuracy_score(y_test, y_predicted)\n",
    "print('Accuracy: {0:f}'.format(score))"
   ]
  },
  {
   "cell_type": "markdown",
   "metadata": {},
   "source": [
    "RNN---GRU"
   ]
  },
  {
   "cell_type": "code",
   "execution_count": 30,
   "metadata": {},
   "outputs": [],
   "source": [
    "\"\"\"\n",
    "使用RNN完成文本分类\n",
    "\"\"\"\n",
    "from __future__ import absolute_import\n",
    "from __future__ import division\n",
    "from __future__ import print_function\n",
    "\n",
    "import argparse\n",
    "import sys\n",
    "\n",
    "import numpy as np\n",
    "import pandas \n",
    "from sklearn import metrics\n",
    "import tensorflow as tf\n",
    "from tensorflow.contrib.layers.python.layers import encoders\n",
    "learn = tf.contrib.learn\n",
    "\n",
    "FLAGS = None"
   ]
  },
  {
   "cell_type": "code",
   "execution_count": 32,
   "metadata": {},
   "outputs": [
    {
     "name": "stdout",
     "output_type": "stream",
     "text": [
      "Total words: 51967\n"
     ]
    }
   ],
   "source": [
    "MAX_DOCUMENT_LENGTH = 15\n",
    "MIN_WORD_FREQUENCE = 2\n",
    "EMBEDDING_SIZE = 50\n",
    "global n_words\n",
    "\n",
    "# 使用词袋模型对词向量进行表示\n",
    "y = lbl_enc.fit_transform(lable_y)\n",
    "X_train, X_test, y_train, y_test = train_test_split(text, y, random_state=2019)\n",
    "\n",
    "global n_words\n",
    "# 处理词汇\n",
    "vocab_processor = learn.preprocessing.VocabularyProcessor(MAX_DOCUMENT_LENGTH, min_frequency=MIN_WORD_FREQUENCE)\n",
    "x_train = np.array(list(vocab_processor.fit_transform(X_train)))\n",
    "x_test = np.array(list(vocab_processor.transform(X_test)))\n",
    "n_words = len(vocab_processor.vocabulary_)\n",
    "print('Total words: %d' % n_words)"
   ]
  },
  {
   "cell_type": "code",
   "execution_count": 37,
   "metadata": {},
   "outputs": [],
   "source": [
    "# GRU分类器\n",
    "def rnn_model(features,target):\n",
    "    word_vectors = tf.contrib.layers.embed_sequence(\n",
    "            features,vocab_size=n_words,embed_dim=EMBEDDING_SIZE,scope='words')\n",
    "    word_list = tf.unstack(word_vectors,axis=1)\n",
    "    cell = tf.contrib.rnn.GRUCell(EMBEDDING_SIZE)\n",
    "    _,encoding = tf.contrib.rnn.static_rnn(cell,word_list,dtype=tf.float32)\n",
    "    target = tf.one_hot(target,15,1,0)\n",
    "    logits = tf.contrib.layers.fully_connected(encoding,15,activation_fn=None)\n",
    "    loss = tf.contrib.losses.softmax_cross_entropy(logits,target)\n",
    "    \n",
    "    #优化\n",
    "    train_op = tf.contrib.layers.optimize_loss(\n",
    "            loss,\n",
    "            tf.contrib.framework.get_global_step(),\n",
    "            optimizer='Adam',\n",
    "            learning_rate=0.01)\n",
    "    \n",
    "    return({\n",
    "        'class':tf.argmax(logits,1),\n",
    "        'prob':tf.nn.softmax(logits)\n",
    "    },loss,train_op)  "
   ]
  },
  {
   "cell_type": "code",
   "execution_count": 38,
   "metadata": {
    "scrolled": true
   },
   "outputs": [
    {
     "name": "stdout",
     "output_type": "stream",
     "text": [
      "INFO:tensorflow:Using default config.\n",
      "WARNING:tensorflow:Using temporary folder as model directory: C:\\Users\\ADMINI~1\\AppData\\Local\\Temp\\tmpcm59awns\n",
      "INFO:tensorflow:Using config: {'_task_type': None, '_task_id': 0, '_cluster_spec': <tensorflow.python.training.server_lib.ClusterSpec object at 0x0000025312E7F898>, '_master': '', '_num_ps_replicas': 0, '_num_worker_replicas': 0, '_environment': 'local', '_is_chief': True, '_evaluation_master': '', '_train_distribute': None, '_eval_distribute': None, '_device_fn': None, '_tf_config': gpu_options {\n",
      "  per_process_gpu_memory_fraction: 1.0\n",
      "}\n",
      ", '_tf_random_seed': None, '_save_summary_steps': 100, '_save_checkpoints_secs': 600, '_log_step_count_steps': 100, '_protocol': None, '_session_config': None, '_save_checkpoints_steps': None, '_keep_checkpoint_max': 5, '_keep_checkpoint_every_n_hours': 10000, '_model_dir': 'C:\\\\Users\\\\ADMINI~1\\\\AppData\\\\Local\\\\Temp\\\\tmpcm59awns'}\n",
      "INFO:tensorflow:Create CheckpointSaverHook.\n",
      "INFO:tensorflow:Graph was finalized.\n",
      "INFO:tensorflow:Running local_init_op.\n",
      "INFO:tensorflow:Done running local_init_op.\n",
      "INFO:tensorflow:Saving checkpoints for 0 into C:\\Users\\ADMINI~1\\AppData\\Local\\Temp\\tmpcm59awns\\model.ckpt.\n",
      "INFO:tensorflow:loss = 2.7083163, step = 0\n",
      "INFO:tensorflow:global_step/sec: 74.6902\n",
      "INFO:tensorflow:loss = 0.03927761, step = 100 (1.338 sec)\n",
      "INFO:tensorflow:global_step/sec: 106.322\n",
      "INFO:tensorflow:loss = 0.0022732085, step = 200 (0.941 sec)\n",
      "INFO:tensorflow:global_step/sec: 107.162\n",
      "INFO:tensorflow:loss = 0.0009411386, step = 300 (0.933 sec)\n",
      "INFO:tensorflow:global_step/sec: 107.094\n",
      "INFO:tensorflow:loss = 0.00046559877, step = 400 (0.934 sec)\n",
      "INFO:tensorflow:global_step/sec: 107.047\n",
      "INFO:tensorflow:loss = 0.00027643982, step = 500 (0.934 sec)\n",
      "INFO:tensorflow:global_step/sec: 104.368\n",
      "INFO:tensorflow:loss = 0.00023498549, step = 600 (0.958 sec)\n",
      "INFO:tensorflow:global_step/sec: 106.189\n",
      "INFO:tensorflow:loss = 0.00018553117, step = 700 (0.942 sec)\n",
      "INFO:tensorflow:global_step/sec: 107.261\n",
      "INFO:tensorflow:loss = 0.00015347943, step = 800 (0.932 sec)\n",
      "INFO:tensorflow:global_step/sec: 104.606\n",
      "INFO:tensorflow:loss = 0.000116589166, step = 900 (0.956 sec)\n",
      "INFO:tensorflow:Saving checkpoints for 1000 into C:\\Users\\ADMINI~1\\AppData\\Local\\Temp\\tmpcm59awns\\model.ckpt.\n",
      "INFO:tensorflow:Loss for final step: 9.645427e-05.\n",
      "INFO:tensorflow:Graph was finalized.\n",
      "INFO:tensorflow:Restoring parameters from C:\\Users\\ADMINI~1\\AppData\\Local\\Temp\\tmpcm59awns\\model.ckpt-1000\n",
      "INFO:tensorflow:Running local_init_op.\n",
      "INFO:tensorflow:Done running local_init_op.\n",
      "Accuracy: 0.957600\n"
     ]
    }
   ],
   "source": [
    "model_fn = rnn_model\n",
    "classifier = learn.SKCompat(learn.Estimator(model_fn=model_fn))\n",
    "classifier.fit(x_train,y_train,steps=1000)\n",
    "y_predicted = classifier.predict(x_test)['class']\n",
    "score = metrics.accuracy_score(y_test,y_predicted)\n",
    "print('Accuracy: {0:f}'.format(score))"
   ]
  },
  {
   "cell_type": "markdown",
   "metadata": {},
   "source": [
    "词袋模型"
   ]
  },
  {
   "cell_type": "code",
   "execution_count": null,
   "metadata": {},
   "outputs": [],
   "source": [
    "from __future__ import absolute_import\n",
    "from __future__ import division\n",
    "from __future__ import print_function\n",
    "\n",
    "import argparse\n",
    "import sys\n",
    "\n",
    "import numpy as np\n",
    "import pandas\n",
    "from sklearn import metrics\n",
    "import tensorflow as tf\n",
    "from tensorflow.contrib.layers.python.layers import encoders\n",
    "\n",
    "learn = tf.contrib.learn\n",
    "\n",
    "FLAGS = None"
   ]
  },
  {
   "cell_type": "code",
   "execution_count": null,
   "metadata": {},
   "outputs": [],
   "source": [
    "MAX_DOCUMENT_LENGTH = 15\n",
    "MIN_WORD_FREQUENCE = 2\n",
    "EMBEDDING_SIZE = 50\n",
    "global n_words\n",
    "\n",
    "# 使用词袋模型对词向量进行表示\n",
    "y = lbl_enc.fit_transform(lable_y)\n",
    "X_train, X_test, y_train, y_test = train_test_split(text, y, random_state=2019)\n",
    "\n",
    "global n_words\n",
    "# 处理词汇\n",
    "vocab_processor = learn.preprocessing.VocabularyProcessor(MAX_DOCUMENT_LENGTH, min_frequency=MIN_WORD_FREQUENCE)\n",
    "x_train = np.array(list(vocab_processor.fit_transform(X_train)))\n",
    "x_test = np.array(list(vocab_processor.transform(X_test)))\n",
    "n_words = len(vocab_processor.vocabulary_)\n",
    "print('Total words: %d' % n_words)"
   ]
  },
  {
   "cell_type": "code",
   "execution_count": 40,
   "metadata": {
    "scrolled": true
   },
   "outputs": [
    {
     "name": "stdout",
     "output_type": "stream",
     "text": [
      "INFO:tensorflow:Using default config.\n",
      "WARNING:tensorflow:Using temporary folder as model directory: C:\\Users\\ADMINI~1\\AppData\\Local\\Temp\\tmpl5nqidmq\n",
      "INFO:tensorflow:Using config: {'_task_type': None, '_task_id': 0, '_cluster_spec': <tensorflow.python.training.server_lib.ClusterSpec object at 0x00000250510DD978>, '_master': '', '_num_ps_replicas': 0, '_num_worker_replicas': 0, '_environment': 'local', '_is_chief': True, '_evaluation_master': '', '_train_distribute': None, '_eval_distribute': None, '_device_fn': None, '_tf_config': gpu_options {\n",
      "  per_process_gpu_memory_fraction: 1.0\n",
      "}\n",
      ", '_tf_random_seed': None, '_save_summary_steps': 100, '_save_checkpoints_secs': 600, '_log_step_count_steps': 100, '_protocol': None, '_session_config': None, '_save_checkpoints_steps': None, '_keep_checkpoint_max': 5, '_keep_checkpoint_every_n_hours': 10000, '_model_dir': 'C:\\\\Users\\\\ADMINI~1\\\\AppData\\\\Local\\\\Temp\\\\tmpl5nqidmq'}\n",
      "INFO:tensorflow:Create CheckpointSaverHook.\n",
      "INFO:tensorflow:Graph was finalized.\n",
      "INFO:tensorflow:Running local_init_op.\n",
      "INFO:tensorflow:Done running local_init_op.\n",
      "INFO:tensorflow:Saving checkpoints for 0 into C:\\Users\\ADMINI~1\\AppData\\Local\\Temp\\tmpl5nqidmq\\model.ckpt.\n",
      "INFO:tensorflow:loss = 2.7080293, step = 0\n",
      "INFO:tensorflow:global_step/sec: 224.203\n",
      "INFO:tensorflow:loss = 0.06693431, step = 100 (0.446 sec)\n",
      "INFO:tensorflow:global_step/sec: 261.378\n",
      "INFO:tensorflow:loss = 0.006574701, step = 200 (0.383 sec)\n",
      "INFO:tensorflow:global_step/sec: 251.763\n",
      "INFO:tensorflow:loss = 0.0043764906, step = 300 (0.396 sec)\n",
      "INFO:tensorflow:global_step/sec: 240.152\n",
      "INFO:tensorflow:loss = 0.002363347, step = 400 (0.417 sec)\n",
      "INFO:tensorflow:global_step/sec: 243.052\n",
      "INFO:tensorflow:loss = 0.0012353824, step = 500 (0.412 sec)\n",
      "INFO:tensorflow:global_step/sec: 233.619\n",
      "INFO:tensorflow:loss = 0.000935514, step = 600 (0.428 sec)\n",
      "INFO:tensorflow:global_step/sec: 250.668\n",
      "INFO:tensorflow:loss = 0.00092311954, step = 700 (0.399 sec)\n",
      "INFO:tensorflow:global_step/sec: 244.316\n",
      "INFO:tensorflow:loss = 0.00059104024, step = 800 (0.409 sec)\n",
      "INFO:tensorflow:global_step/sec: 239.58\n",
      "INFO:tensorflow:loss = 0.00043288636, step = 900 (0.418 sec)\n",
      "INFO:tensorflow:Saving checkpoints for 1000 into C:\\Users\\ADMINI~1\\AppData\\Local\\Temp\\tmpl5nqidmq\\model.ckpt.\n",
      "INFO:tensorflow:Loss for final step: 0.000341777.\n",
      "INFO:tensorflow:Graph was finalized.\n",
      "INFO:tensorflow:Restoring parameters from C:\\Users\\ADMINI~1\\AppData\\Local\\Temp\\tmpl5nqidmq\\model.ckpt-1000\n",
      "INFO:tensorflow:Running local_init_op.\n",
      "INFO:tensorflow:Done running local_init_op.\n",
      "Accuracy: 0.971600\n"
     ]
    }
   ],
   "source": [
    "def bag_of_words_model(features, target):\n",
    "    \"\"\"先转成词袋模型\"\"\"\n",
    "    target = tf.one_hot(target, 15, 1, 0)\n",
    "    features = encoders.bow_encoder(\n",
    "            features, vocab_size=n_words, embed_dim=EMBEDDING_SIZE)\n",
    "    logits = tf.contrib.layers.fully_connected(features, 15, activation_fn=None)\n",
    "    loss = tf.contrib.losses.softmax_cross_entropy(logits, target)\n",
    "    train_op = tf.contrib.layers.optimize_loss(\n",
    "            loss,\n",
    "            tf.contrib.framework.get_global_step(),\n",
    "            optimizer='Adam',\n",
    "            learning_rate=0.01)\n",
    "    return ({\n",
    "            'class': tf.argmax(logits, 1),\n",
    "            'prob': tf.nn.softmax(logits)\n",
    "    }, loss, train_op)\n",
    "\n",
    "\n",
    "model_fn = bag_of_words_model\n",
    "classifier = learn.SKCompat(learn.Estimator(model_fn=model_fn))\n",
    "\n",
    "# Train and predict\n",
    "classifier.fit(x_train, y_train, steps=1000)\n",
    "y_predicted = classifier.predict(x_test)['class']\n",
    "score = metrics.accuracy_score(y_test, y_predicted)\n",
    "print('Accuracy: {0:f}'.format(score))"
   ]
  },
  {
   "cell_type": "markdown",
   "metadata": {},
   "source": [
    "## 二分类"
   ]
  },
  {
   "cell_type": "markdown",
   "metadata": {},
   "source": [
    "多项式朴素贝叶斯"
   ]
  },
  {
   "cell_type": "code",
   "execution_count": 40,
   "metadata": {},
   "outputs": [
    {
     "name": "stdout",
     "output_type": "stream",
     "text": [
      "多项式贝叶斯分类器20折交叉验证得分:  0.9930848014789697\n"
     ]
    }
   ],
   "source": [
    "from sklearn.naive_bayes import MultinomialNB as MNB\n",
    "# 因为sklearn的NB只支持二分类，所以就简单粗暴地把10个类变成一个类。\n",
    "y_train_nb = [1 if i > 5 else 0 for i in y_train]\n",
    "model_NB = MNB()\n",
    "model_NB.fit(X, y_train_nb ) #特征数据直接灌进来\n",
    "MNB(alpha=1.0, class_prior=None, fit_prior=True) # ”alpha“是平滑参数，不需要掌握哈。\n",
    "\n",
    "from sklearn.model_selection import cross_val_score\n",
    "import numpy as np\n",
    "\n",
    "print(\"多项式贝叶斯分类器20折交叉验证得分: \", np.mean(cross_val_score(model_NB, X, y_train_nb, cv=20, scoring='roc_auc')))"
   ]
  },
  {
   "cell_type": "markdown",
   "metadata": {},
   "source": [
    "逻辑回归"
   ]
  },
  {
   "cell_type": "code",
   "execution_count": 41,
   "metadata": {
    "collapsed": true
   },
   "outputs": [
    {
     "name": "stderr",
     "output_type": "stream",
     "text": [
      "C:\\Users\\Administrator\\Anaconda3\\lib\\site-packages\\sklearn\\linear_model\\logistic.py:433: FutureWarning: Default solver will be changed to 'lbfgs' in 0.22. Specify a solver to silence this warning.\n",
      "  FutureWarning)\n",
      "C:\\Users\\Administrator\\Anaconda3\\lib\\site-packages\\sklearn\\linear_model\\logistic.py:433: FutureWarning: Default solver will be changed to 'lbfgs' in 0.22. Specify a solver to silence this warning.\n",
      "  FutureWarning)\n"
     ]
    },
    {
     "name": "stdout",
     "output_type": "stream",
     "text": [
      "20折交叉验证得分:  0.9850482651479215\n"
     ]
    }
   ],
   "source": [
    "from sklearn.linear_model import LogisticRegression as LR\n",
    "model_LR = LogisticRegression(C=.01) # C是正则化系数。\n",
    "model_LR.fit(X, y_train_nb)\n",
    "print(\"20折交叉验证得分: \", np.mean(cross_val_score(model_LR, X, y_train_nb, cv=20, scoring='roc_auc')))"
   ]
  },
  {
   "cell_type": "markdown",
   "metadata": {},
   "source": [
    "SVM"
   ]
  },
  {
   "cell_type": "code",
   "execution_count": 42,
   "metadata": {},
   "outputs": [
    {
     "name": "stdout",
     "output_type": "stream",
     "text": [
      "20折交叉验证得分:  0.9914719455415332\n"
     ]
    }
   ],
   "source": [
    "\n",
    "from sklearn.svm import LinearSVC\n",
    "model_SVM = LinearSVC(C=.01) # C是正则化系数。\n",
    "model_SVM.fit(X, y_train_nb)\n",
    "print(\"20折交叉验证得分: \", np.mean(cross_val_score(model_SVM, X, y_train_nb, cv=20, scoring='roc_auc')))"
   ]
  }
 ],
 "metadata": {
  "kernelspec": {
   "display_name": "Python 3",
   "language": "python",
   "name": "python3"
  },
  "language_info": {
   "codemirror_mode": {
    "name": "ipython",
    "version": 3
   },
   "file_extension": ".py",
   "mimetype": "text/x-python",
   "name": "python",
   "nbconvert_exporter": "python",
   "pygments_lexer": "ipython3",
   "version": "3.7.3"
  }
 },
 "nbformat": 4,
 "nbformat_minor": 2
}
